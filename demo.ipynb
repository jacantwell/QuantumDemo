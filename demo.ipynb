{
 "cells": [
  {
   "cell_type": "code",
   "execution_count": null,
   "metadata": {},
   "outputs": [],
   "source": [
    "import qiskit as qs\n",
    "import matplotlib.pyplot as plt"
   ]
  },
  {
   "cell_type": "code",
   "execution_count": null,
   "metadata": {},
   "outputs": [],
   "source": [
    "# Create a quantum circuit with 3 qubits\n",
    "circuit = qs.QuantumCircuit(3)"
   ]
  },
  {
   "cell_type": "code",
   "execution_count": null,
   "metadata": {},
   "outputs": [],
   "source": [
    "circuit.draw(output='mpl', style={'backgroundcolor': '#EEEEEE'})"
   ]
  },
  {
   "cell_type": "code",
   "execution_count": null,
   "metadata": {},
   "outputs": [],
   "source": [
    "my_list = [0,1,2,8,3,2,7,1,3,4,2,9]"
   ]
  },
  {
   "cell_type": "code",
   "execution_count": null,
   "metadata": {},
   "outputs": [],
   "source": [
    "def my_oracle(input):\n",
    "    winner = 7\n",
    "    if input == winner:\n",
    "        return True\n",
    "    else:\n",
    "        return False"
   ]
  },
  {
   "cell_type": "code",
   "execution_count": null,
   "metadata": {},
   "outputs": [],
   "source": [
    "for i, value in enumerate(my_list):\n",
    "    if my_oracle(value):\n",
    "        print(f\"Winner found at index {i} with value {value}\")\n",
    "        print(f\"Orcale called {i+1} times\")\n",
    "        break"
   ]
  },
  {
   "cell_type": "markdown",
   "metadata": {},
   "source": [
    "In qunatum we can define our oracle as a operation that flips the sign of the winning value - This exists already as the control-z gate. "
   ]
  },
  {
   "cell_type": "code",
   "execution_count": null,
   "metadata": {},
   "outputs": [],
   "source": [
    "import qiskit as qs\n",
    "from qiskit import *\n",
    "import qiskit_aer as aer\n",
    "import matplotlib.pyplot as plt\n",
    "import numpy as np\n",
    "\n",
    "backend = aer.StatevectorSimulator()"
   ]
  },
  {
   "cell_type": "code",
   "execution_count": null,
   "metadata": {},
   "outputs": [],
   "source": [
    "# Define the oracle circuit\n",
    "circuit = QuantumCircuit(2, name='initial')\n",
    "\n",
    "result = backend.run(circuit).result()\n",
    "sv = result.get_statevector()\n",
    "sv = np.round(sv, 3)\n",
    "\n",
    "plt.bar(range(4), (np.real(sv)), tick_label=['00', '01', '10', '11'])"
   ]
  },
  {
   "cell_type": "code",
   "execution_count": null,
   "metadata": {},
   "outputs": [],
   "source": [
    "circuit = QuantumCircuit(2, name='initial')\n",
    "circuit.h((0,1))\n",
    "circuit.draw(output='mpl')"
   ]
  },
  {
   "cell_type": "code",
   "execution_count": null,
   "metadata": {},
   "outputs": [],
   "source": [
    "result = backend.run(circuit).result()\n",
    "sv = result.get_statevector()\n",
    "sv = np.round(sv, 3)\n",
    "\n",
    "plt.bar(range(4), (np.real(sv)), tick_label=['00', '01', '10', '11'])"
   ]
  },
  {
   "cell_type": "code",
   "execution_count": null,
   "metadata": {},
   "outputs": [],
   "source": [
    "oracle = QuantumCircuit(2, name='oracle')\n",
    "oracle.cz(0, 1)\n",
    "oracle.draw(output='mpl')"
   ]
  },
  {
   "cell_type": "code",
   "execution_count": null,
   "metadata": {},
   "outputs": [],
   "source": [
    "# Add the oracle to the circuit\n",
    "circuit.cz(0, 1)\n",
    "\n",
    "# Run the circuit\n",
    "result = backend.run(circuit).result()\n",
    "sv = result.get_statevector()\n",
    "np.round(sv, 3)\n",
    "\n",
    "plt.bar(range(4), (np.real(sv)), tick_label=['00', '01', '10', '11'])"
   ]
  },
  {
   "cell_type": "code",
   "execution_count": null,
   "metadata": {},
   "outputs": [],
   "source": [
    "reflection = QuantumCircuit(2, name='reflection')\n",
    "reflection.h([0, 1])\n",
    "reflection.z([0, 1])\n",
    "reflection.cz(0, 1)\n",
    "reflection.h([0, 1])\n",
    "reflection.to_gate(label='Reflection')\n",
    "reflection.draw(output='mpl')"
   ]
  },
  {
   "cell_type": "code",
   "execution_count": null,
   "metadata": {},
   "outputs": [],
   "source": [
    "grover_circuit = QuantumCircuit(2, 2)\n",
    "grover_circuit.h([0, 1])\n",
    "grover_circuit.cz(0, 1)\n",
    "grover_circuit.append(reflection, [0, 1])\n",
    "grover_circuit.draw(output='mpl')"
   ]
  },
  {
   "cell_type": "code",
   "execution_count": null,
   "metadata": {},
   "outputs": [],
   "source": [
    "backend = aer.QasmSimulator()\n",
    "grover_circuit = QuantumCircuit(2, 2)\n",
    "grover_circuit.h([0, 1])\n",
    "grover_circuit.cz(0, 1)\n",
    "grover_circuit.append(reflection, [0, 1])\n",
    "grover_circuit.measure([0, 1], [0, 1])\n",
    "grover_circuit.draw(output='mpl')"
   ]
  },
  {
   "cell_type": "code",
   "execution_count": null,
   "metadata": {},
   "outputs": [],
   "source": [
    "backend = aer.QasmSimulator()\n",
    "grover_circuit = QuantumCircuit(2, 2)\n",
    "grover_circuit.h([0, 1])\n",
    "grover_circuit.cz(0, 1)\n",
    "grover_circuit.h([0, 1])\n",
    "grover_circuit.z([0, 1])\n",
    "grover_circuit.cz(0, 1)\n",
    "grover_circuit.h([0, 1])\n",
    "grover_circuit.measure([0, 1], [0, 1])\n",
    "grover_circuit.draw(output='mpl')"
   ]
  },
  {
   "cell_type": "code",
   "execution_count": null,
   "metadata": {},
   "outputs": [],
   "source": [
    "result = backend.run(grover_circuit, shots=1).result()"
   ]
  },
  {
   "cell_type": "code",
   "execution_count": null,
   "metadata": {},
   "outputs": [],
   "source": [
    "result"
   ]
  },
  {
   "cell_type": "code",
   "execution_count": null,
   "metadata": {},
   "outputs": [],
   "source": [
    "import pandas as pd\n",
    "import math"
   ]
  },
  {
   "cell_type": "markdown",
   "metadata": {},
   "source": [
    "## Grover's Algorith Example"
   ]
  },
  {
   "cell_type": "code",
   "execution_count": null,
   "metadata": {},
   "outputs": [],
   "source": [
    "# Give of list of numbers we want to find a specific winner in the list. Let us\n",
    "# start by solving this problem classically.\n",
    "\n",
    "# Here's our list\n",
    "my_list = [0,1,8,3,2,7,1,3]\n",
    "\n",
    "# Here's our winner\n",
    "WINNER = 7\n",
    "\n",
    "# We will define an oracle function that will return True if our winner is found.\n",
    "def my_oracle(value):\n",
    "    if value == WINNER:\n",
    "        return True\n",
    "    else:\n",
    "        return False\n",
    "    \n",
    "# We can now (inefficently) loop through the list and call the oracle function\n",
    "for i, value in enumerate(my_list):\n",
    "    if my_oracle(value):\n",
    "        print(f\"Winner found at index {i} with value {value}\")\n",
    "        print(f\"Orcale called {i+1} times\")\n",
    "        break"
   ]
  },
  {
   "cell_type": "markdown",
   "metadata": {},
   "source": [
    "Obviously there are better algorithms for this job however classically this problem has a computational scaling of N/2. Using a qunatum algorithm we can achieve $\\sqrt{N}$ scaling.\n",
    "\n",
    "We can describe our list using a 3 quibit quantum state:\n",
    "\n",
    "[000, 001, 010, 011, 100, 101, 110, 111]\n",
    "\n",
    "Now our winner is the state 101."
   ]
  },
  {
   "cell_type": "code",
   "execution_count": null,
   "metadata": {},
   "outputs": [],
   "source": [
    "from qiskit.circuit.library import GroverOperator, MCMT, ZGate\n",
    "\n",
    "# Our orcale is now going to be a qunatum circuit\n",
    "def get_grover_oracle(winner):\n",
    "\n",
    "    num_qbits = len(winner)\n",
    "\n",
    "    circuit = QuantumCircuit(num_qbits, name='oracle')\n",
    "\n",
    "    # Qiskit uses reversed bit ordering so me have to reverse the winner string\n",
    "    winner = winner[::-1]\n",
    "\n",
    "    # Find the bits that are 0\n",
    "    zero_inds = [i for i, bit in enumerate(winner) if bit == '0']\n",
    "\n",
    "    if len(zero_inds) > 0:\n",
    "        # Add an x gates and a multi controlled z gate\n",
    "        circuit.x(zero_inds)\n",
    "\n",
    "    circuit.compose(MCMT(ZGate(), num_qbits-1, 1), inplace=True)\n",
    "    \n",
    "    if len(zero_inds) > 0:\n",
    "        # Add an x gates and a multi controlled z gate\n",
    "        circuit.x(zero_inds)\n",
    "\n",
    "    return circuit"
   ]
  },
  {
   "cell_type": "code",
   "execution_count": null,
   "metadata": {},
   "outputs": [],
   "source": [
    "# Here's our new winner\n",
    "QUANTUM_WINNER = '011'\n",
    "\n",
    "grover_oracle = get_grover_oracle(QUANTUM_WINNER)\n",
    "grover_oracle.draw(output='mpl')"
   ]
  },
  {
   "cell_type": "code",
   "execution_count": null,
   "metadata": {},
   "outputs": [],
   "source": [
    "grover_oracle = grover_oracle.to_gate(label='oracle')"
   ]
  },
  {
   "cell_type": "code",
   "execution_count": null,
   "metadata": {},
   "outputs": [],
   "source": [
    "circuit = QuantumCircuit(len(QUANTUM_WINNER))\n",
    "circuit.h(range(len(QUANTUM_WINNER)))\n",
    "circuit.append(grover_oracle, range(len(QUANTUM_WINNER)))\n",
    "circuit.draw(output='mpl')"
   ]
  },
  {
   "cell_type": "code",
   "execution_count": null,
   "metadata": {},
   "outputs": [],
   "source": [
    "simulator = aer.StatevectorSimulator()\n",
    "result = simulator.run(circuit.decompose()).result()\n",
    "sv = np.round(result.get_statevector(), 3)"
   ]
  },
  {
   "cell_type": "code",
   "execution_count": null,
   "metadata": {},
   "outputs": [],
   "source": [
    "state_labels = [f\"{i:0{len(QUANTUM_WINNER)}b}\" for i in range(2**len(QUANTUM_WINNER))]\n",
    "df = pd.DataFrame(np.array([state_labels, sv]).T, columns=['State', 'Vector'])\n",
    "df"
   ]
  },
  {
   "cell_type": "markdown",
   "metadata": {},
   "source": [
    "We can see in the table above that the \"winning\" state has been \"marked\" by turning it negative. We can now turn this mark into a result using the grover operator."
   ]
  },
  {
   "cell_type": "code",
   "execution_count": null,
   "metadata": {},
   "outputs": [],
   "source": [
    "# Let's redefine our oracle function ...\n",
    "grover_oracle = get_grover_oracle(WINNER)\n",
    "\n",
    "# ... and take a look at this operator\n",
    "grover_op = GroverOperator(grover_oracle)\n",
    "grover_op.decompose().draw(output='mpl')"
   ]
  },
  {
   "cell_type": "markdown",
   "metadata": {},
   "source": [
    "This operator is going to increase the probabilities of being in a marked state each time it is run."
   ]
  },
  {
   "cell_type": "code",
   "execution_count": null,
   "metadata": {},
   "outputs": [],
   "source": [
    "# There is an optimal number of iterations for Grover's algorithm. \n",
    "# This is dependent on the number of winners and the number of qubits.\n",
    "optimal_num_iterations = math.floor(\n",
    "    math.pi / (4 * math.asin(math.sqrt(1 / 2**grover_op.num_qubits)))\n",
    ")\n",
    "print(f\"Optimal number of iterations: {optimal_num_iterations}\")"
   ]
  },
  {
   "cell_type": "code",
   "execution_count": null,
   "metadata": {},
   "outputs": [],
   "source": [
    "circuit = QuantumCircuit(grover_op.num_qubits)\n",
    "\n",
    "# Create an even superposition\n",
    "circuit.h(range(grover_op.num_qubits))\n",
    "\n",
    "# Apply the Grover operator optimal_num_iterations times\n",
    "for i in range(optimal_num_iterations):\n",
    "    circuit.append(grover_op.decompose(), range(grover_op.num_qubits))\n",
    "\n",
    "# Measure the qubits\n",
    "circuit.measure_all()\n",
    "circuit.draw(output='mpl')"
   ]
  },
  {
   "cell_type": "code",
   "execution_count": null,
   "metadata": {},
   "outputs": [],
   "source": [
    "simulator = aer.QasmSimulator()\n",
    "result = simulator.run(circuit.decompose(), shots=1000).result()\n",
    "counts = result.get_counts()\n",
    "\n",
    "plt.bar(counts.keys(), counts.values())"
   ]
  },
  {
   "cell_type": "code",
   "execution_count": null,
   "metadata": {},
   "outputs": [],
   "source": [
    "def find_value(list, value, verbose=True):\n",
    "\n",
    "    # Find number of quibits needed to represent the list\n",
    "    num_qubits = math.ceil(math.log2(len(list)))\n",
    "\n",
    "    # Convert the list into a list of states\n",
    "    qubit_states = [f\"{i:0{num_qubits}b}\" for i in range(2**num_qubits)]\n",
    "\n",
    "    grover_oracle = get_grover_oracle(value)\n",
    "\n",
    "    grover_op = GroverOperator(grover_oracle)\n",
    "    grover_op.decompose().draw(output='mpl')"
   ]
  },
  {
   "cell_type": "code",
   "execution_count": null,
   "metadata": {},
   "outputs": [],
   "source": [
    "from qiskit import QuantumCircuit\n",
    "from qiskit.circuit.library import GroverOperator\n",
    "from qiskit.quantum_info import Statevector\n",
    "import numpy as np"
   ]
  },
  {
   "cell_type": "code",
   "execution_count": null,
   "metadata": {},
   "outputs": [],
   "source": [
    "# list = [0,1,8,3,2,7,1,3,5,22,3,124,34,123,412,31,2312,331,23]\n",
    "my_list = [4, 2, 7, 1, 5, 3]\n",
    "target_value = 7\n",
    "\n",
    "# Determine the number of qubits needed\n",
    "n = len(my_list)\n",
    "num_qubits = int(np.ceil(np.log2(n)))\n",
    "num_value_qubits = int(np.ceil(np.log2(max(my_list) + 1)))\n",
    "\n",
    "# Create a quantum circuit with the necessary qubits\n",
    "qc = QuantumCircuit(num_qubits + num_value_qubits + 1)\n",
    "\n",
    "# Apply Hadamard gates to the qubits representing indices\n",
    "qc.h(range(num_qubits))\n",
    "\n",
    "for i, value in enumerate(my_list):\n",
    "    value_bin = format(value, f'0{num_value_qubits}b')\n",
    "    for j, bit in enumerate(value_bin):\n",
    "        if bit == '1':\n",
    "            qc.x(num_qubits + j)\n",
    "    qc.mcx(list(range(num_qubits)), num_qubits + num_value_qubits - 1)\n",
    "    for j, bit in enumerate(value_bin):\n",
    "        if bit == '1':\n",
    "            qc.x(num_qubits + j)\n",
    "    qc.barrier()"
   ]
  },
  {
   "cell_type": "code",
   "execution_count": null,
   "metadata": {},
   "outputs": [],
   "source": [
    "qc.draw(output='mpl')"
   ]
  },
  {
   "cell_type": "code",
   "execution_count": null,
   "metadata": {},
   "outputs": [],
   "source": [
    "# Compare the value in ancillary qubits with the target value\n",
    "target_bin = format(target_value, f'0{num_value_qubits}b')\n",
    "print(target_bin)\n",
    "for i, bit in enumerate(target_bin):\n",
    "    if bit == '0':\n",
    "        qc.x(num_qubits + i)\n",
    "qc.mcx(list(range(num_qubits, num_qubits + num_value_qubits)), num_qubits + num_value_qubits)\n",
    "for i, bit in enumerate(target_bin):\n",
    "    if bit == '0':\n",
    "        qc.x(num_qubits + i)\n",
    "\n",
    "qc.draw(output='mpl')"
   ]
  },
  {
   "cell_type": "code",
   "execution_count": null,
   "metadata": {},
   "outputs": [],
   "source": []
  }
 ],
 "metadata": {
  "kernelspec": {
   "display_name": "quantum-demo-_vbEGaeA-py3.12",
   "language": "python",
   "name": "python3"
  },
  "language_info": {
   "codemirror_mode": {
    "name": "ipython",
    "version": 3
   },
   "file_extension": ".py",
   "mimetype": "text/x-python",
   "name": "python",
   "nbconvert_exporter": "python",
   "pygments_lexer": "ipython3",
   "version": "3.12.3"
  }
 },
 "nbformat": 4,
 "nbformat_minor": 2
}
