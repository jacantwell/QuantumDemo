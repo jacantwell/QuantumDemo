{
 "cells": [
  {
   "cell_type": "code",
   "execution_count": 3,
   "metadata": {},
   "outputs": [],
   "source": [
    "# Importing the libraries\n",
    "import qiskit as qs\n",
    "from qiskit.circuit.library import GroverOperator, MCMT, ZGate\n",
    "import qiskit_aer as aer\n",
    "import matplotlib.pyplot as plt\n",
    "import numpy as np\n",
    "import pandas as pd\n",
    "import math"
   ]
  },
  {
   "cell_type": "markdown",
   "metadata": {},
   "source": [
    "## Grover's Algorithm"
   ]
  },
  {
   "cell_type": "code",
   "execution_count": 4,
   "metadata": {},
   "outputs": [
    {
     "name": "stdout",
     "output_type": "stream",
     "text": [
      "Winner found at index 2 with value 7\n",
      "Orcale called 3 times\n"
     ]
    }
   ],
   "source": [
    "# Given a list of numbers we want to find a specific winner in the list. Let us\n",
    "# start by solving this problem classically.\n",
    "\n",
    "# Here's our list\n",
    "my_list = [0,1,7,3]\n",
    "\n",
    "# Here's our winner\n",
    "WINNER = 7\n",
    "\n",
    "# We will define an oracle function that will return True if our winner is found.\n",
    "def my_oracle(value):\n",
    "    if value == WINNER:\n",
    "        return True\n",
    "    else:\n",
    "        return False\n",
    "    \n",
    "# We can now (inefficently) loop through the list and call the oracle function\n",
    "for i, value in enumerate(my_list):\n",
    "    if my_oracle(value):\n",
    "        print(f\"Winner found at index {i} with value {value}\")\n",
    "        print(f\"Orcale called {i+1} times\")\n",
    "        break"
   ]
  },
  {
   "cell_type": "markdown",
   "metadata": {},
   "source": [
    "Obviously there are better algorithms for this job however classically this problem has a computational scaling of N/2. Using a qunatum algorithm we can achieve $\\sqrt{N}$ scaling.\n",
    "\n",
    "We can describe a list using a 2 quibit quantum state:\n",
    "\n",
    "[00, 01, 10, 11]\n",
    "\n",
    "Now our winner is the state 11."
   ]
  },
  {
   "cell_type": "code",
   "execution_count": 5,
   "metadata": {},
   "outputs": [],
   "source": [
    "# Our orcale is now going to be a quantum circuit\n",
    "def get_grover_oracle(winner):\n",
    "\n",
    "    num_qbits = len(winner)\n",
    "\n",
    "    circuit = qs.QuantumCircuit(num_qbits, name='oracle')\n",
    "\n",
    "    # Qiskit uses reversed bit ordering so me have to reverse the winner string\n",
    "    winner = winner[::-1]\n",
    "\n",
    "    # Find the 0 bits in the winner string\n",
    "    zero_inds = [i for i, bit in enumerate(winner) if bit == '0']\n",
    "\n",
    "    if len(zero_inds) > 0:\n",
    "        # Add an x gate to the qubits in the winner that were set to 0\n",
    "        circuit.x(zero_inds)\n",
    "\n",
    "    circuit.compose(MCMT(ZGate(), num_qbits-1, 1), inplace=True)\n",
    "    \n",
    "    if len(zero_inds) > 0:\n",
    "        # Add an x gates and a multi controlled z gate\n",
    "        circuit.x(zero_inds)\n",
    "\n",
    "    return circuit"
   ]
  },
  {
   "cell_type": "code",
   "execution_count": 6,
   "metadata": {},
   "outputs": [
    {
     "data": {
      "image/png": "[encoded data removed]",
      "text/plain": [
       "<Figure size 370.906x200.667 with 1 Axes>"
      ]
     },
     "execution_count": 6,
     "metadata": {},
     "output_type": "execute_result"
    }
   ],
   "source": [
    "# Here's our new winner\n",
    "QUANTUM_WINNER = '11'\n",
    "\n",
    "# Let's get the oracle circuit that will mark our winner\n",
    "grover_oracle = get_grover_oracle(QUANTUM_WINNER)\n",
    "grover_oracle.decompose().draw(output='mpl')"
   ]
  },
  {
   "cell_type": "code",
   "execution_count": 7,
   "metadata": {},
   "outputs": [],
   "source": [
    "# We can convert this into it's own gate\n",
    "grover_oracle = grover_oracle.to_gate(label='oracle')"
   ]
  },
  {
   "cell_type": "markdown",
   "metadata": {},
   "source": [
    "We can set up a new quantum system and see what this gate does to the state vectors."
   ]
  },
  {
   "cell_type": "code",
   "execution_count": 8,
   "metadata": {},
   "outputs": [
    {
     "data": {
      "image/png": "[encoded data removed]",
      "text/plain": [
       "<Figure size 161.878x200.667 with 1 Axes>"
      ]
     },
     "execution_count": 8,
     "metadata": {},
     "output_type": "execute_result"
    }
   ],
   "source": [
    "circuit = qs.QuantumCircuit(len(QUANTUM_WINNER))\n",
    "circuit.draw(output='mpl')"
   ]
  },
  {
   "cell_type": "markdown",
   "metadata": {},
   "source": [
    "First we can take a look at the state vectors of an initial quantum state."
   ]
  },
  {
   "cell_type": "code",
   "execution_count": 9,
   "metadata": {},
   "outputs": [],
   "source": [
    "# Helper function to display the state vectors\n",
    "def get_state_vectors(circuit):\n",
    "    simulator = aer.StatevectorSimulator()\n",
    "    result = simulator.run(circuit.decompose()).result()\n",
    "    sv = np.round(result.get_statevector(), 3)\n",
    "    state_labels = [f\"{i:0{len(QUANTUM_WINNER)}b}\" for i in range(2**len(QUANTUM_WINNER))]\n",
    "    df = pd.DataFrame(np.array([state_labels, sv]).T, columns=['State', 'Vector'])\n",
    "    display(df)\n",
    "    return sv"
   ]
  },
  {
   "cell_type": "code",
   "execution_count": 10,
   "metadata": {},
   "outputs": [
    {
     "data": {
      "text/html": [
       "<div>\n",
       "<style scoped>\n",
       "    .dataframe tbody tr th:only-of-type {\n",
       "        vertical-align: middle;\n",
       "    }\n",
       "\n",
       "    .dataframe tbody tr th {\n",
       "        vertical-align: top;\n",
       "    }\n",
       "\n",
       "    .dataframe thead th {\n",
       "        text-align: right;\n",
       "    }\n",
       "</style>\n",
       "<table border=\"1\" class=\"dataframe\">\n",
       "  <thead>\n",
       "    <tr style=\"text-align: right;\">\n",
       "      <th></th>\n",
       "      <th>State</th>\n",
       "      <th>Vector</th>\n",
       "    </tr>\n",
       "  </thead>\n",
       "  <tbody>\n",
       "    <tr>\n",
       "      <th>0</th>\n",
       "      <td>00</td>\n",
       "      <td>(1+0j)</td>\n",
       "    </tr>\n",
       "    <tr>\n",
       "      <th>1</th>\n",
       "      <td>01</td>\n",
       "      <td>0j</td>\n",
       "    </tr>\n",
       "    <tr>\n",
       "      <th>2</th>\n",
       "      <td>10</td>\n",
       "      <td>0j</td>\n",
       "    </tr>\n",
       "    <tr>\n",
       "      <th>3</th>\n",
       "      <td>11</td>\n",
       "      <td>0j</td>\n",
       "    </tr>\n",
       "  </tbody>\n",
       "</table>\n",
       "</div>"
      ],
      "text/plain": [
       "  State  Vector\n",
       "0    00  (1+0j)\n",
       "1    01      0j\n",
       "2    10      0j\n",
       "3    11      0j"
      ]
     },
     "metadata": {},
     "output_type": "display_data"
    }
   ],
   "source": [
    "sv = get_state_vectors(circuit)"
   ]
  },
  {
   "cell_type": "code",
   "execution_count": 11,
   "metadata": {},
   "outputs": [
    {
     "data": {
      "image/png": "[encoded data removed]",
      "text/plain": [
       "<Figure size 203.683x200.667 with 1 Axes>"
      ]
     },
     "execution_count": 11,
     "metadata": {},
     "output_type": "execute_result"
    }
   ],
   "source": [
    "# Now let's apply the hadamard gates to put the qubits in superposition\n",
    "circuit.h(range(len(QUANTUM_WINNER)))\n",
    "circuit.draw(output='mpl')"
   ]
  },
  {
   "cell_type": "code",
   "execution_count": 12,
   "metadata": {},
   "outputs": [
    {
     "data": {
      "text/html": [
       "<div>\n",
       "<style scoped>\n",
       "    .dataframe tbody tr th:only-of-type {\n",
       "        vertical-align: middle;\n",
       "    }\n",
       "\n",
       "    .dataframe tbody tr th {\n",
       "        vertical-align: top;\n",
       "    }\n",
       "\n",
       "    .dataframe thead th {\n",
       "        text-align: right;\n",
       "    }\n",
       "</style>\n",
       "<table border=\"1\" class=\"dataframe\">\n",
       "  <thead>\n",
       "    <tr style=\"text-align: right;\">\n",
       "      <th></th>\n",
       "      <th>State</th>\n",
       "      <th>Vector</th>\n",
       "    </tr>\n",
       "  </thead>\n",
       "  <tbody>\n",
       "    <tr>\n",
       "      <th>0</th>\n",
       "      <td>00</td>\n",
       "      <td>(0.5+0j)</td>\n",
       "    </tr>\n",
       "    <tr>\n",
       "      <th>1</th>\n",
       "      <td>01</td>\n",
       "      <td>(0.5+0j)</td>\n",
       "    </tr>\n",
       "    <tr>\n",
       "      <th>2</th>\n",
       "      <td>10</td>\n",
       "      <td>(0.5+0j)</td>\n",
       "    </tr>\n",
       "    <tr>\n",
       "      <th>3</th>\n",
       "      <td>11</td>\n",
       "      <td>(0.5+0j)</td>\n",
       "    </tr>\n",
       "  </tbody>\n",
       "</table>\n",
       "</div>"
      ],
      "text/plain": [
       "  State    Vector\n",
       "0    00  (0.5+0j)\n",
       "1    01  (0.5+0j)\n",
       "2    10  (0.5+0j)\n",
       "3    11  (0.5+0j)"
      ]
     },
     "metadata": {},
     "output_type": "display_data"
    }
   ],
   "source": [
    "sv = get_state_vectors(circuit)"
   ]
  },
  {
   "cell_type": "code",
   "execution_count": 13,
   "metadata": {},
   "outputs": [
    {
     "data": {
      "image/png": "[encoded data removed]",
      "text/plain": [
       "<Figure size 370.906x200.667 with 1 Axes>"
      ]
     },
     "execution_count": 13,
     "metadata": {},
     "output_type": "execute_result"
    }
   ],
   "source": [
    "# And finally lets add our oracle\n",
    "# Now let's apply the hadamard gates to put the qubits in superposition\n",
    "circuit.append(grover_oracle, range(len(QUANTUM_WINNER)))\n",
    "circuit.draw(output='mpl')"
   ]
  },
  {
   "cell_type": "code",
   "execution_count": 14,
   "metadata": {},
   "outputs": [
    {
     "data": {
      "text/html": [
       "<div>\n",
       "<style scoped>\n",
       "    .dataframe tbody tr th:only-of-type {\n",
       "        vertical-align: middle;\n",
       "    }\n",
       "\n",
       "    .dataframe tbody tr th {\n",
       "        vertical-align: top;\n",
       "    }\n",
       "\n",
       "    .dataframe thead th {\n",
       "        text-align: right;\n",
       "    }\n",
       "</style>\n",
       "<table border=\"1\" class=\"dataframe\">\n",
       "  <thead>\n",
       "    <tr style=\"text-align: right;\">\n",
       "      <th></th>\n",
       "      <th>State</th>\n",
       "      <th>Vector</th>\n",
       "    </tr>\n",
       "  </thead>\n",
       "  <tbody>\n",
       "    <tr>\n",
       "      <th>0</th>\n",
       "      <td>00</td>\n",
       "      <td>(0.5+0j)</td>\n",
       "    </tr>\n",
       "    <tr>\n",
       "      <th>1</th>\n",
       "      <td>01</td>\n",
       "      <td>(0.5+0j)</td>\n",
       "    </tr>\n",
       "    <tr>\n",
       "      <th>2</th>\n",
       "      <td>10</td>\n",
       "      <td>(0.5+0j)</td>\n",
       "    </tr>\n",
       "    <tr>\n",
       "      <th>3</th>\n",
       "      <td>11</td>\n",
       "      <td>(-0.5+0j)</td>\n",
       "    </tr>\n",
       "  </tbody>\n",
       "</table>\n",
       "</div>"
      ],
      "text/plain": [
       "  State     Vector\n",
       "0    00   (0.5+0j)\n",
       "1    01   (0.5+0j)\n",
       "2    10   (0.5+0j)\n",
       "3    11  (-0.5+0j)"
      ]
     },
     "metadata": {},
     "output_type": "display_data"
    }
   ],
   "source": [
    "sv = get_state_vectors(circuit)"
   ]
  },
  {
   "cell_type": "markdown",
   "metadata": {},
   "source": [
    "You can see that the winner state has been marked by changing it's amplitude. Now that our winner state is marked we can apply the next part of the algorithm."
   ]
  },
  {
   "cell_type": "code",
   "execution_count": 15,
   "metadata": {},
   "outputs": [
    {
     "data": {
      "image/png": "[encoded data removed]",
      "text/plain": [
       "<Figure size 1011.07x200.667 with 1 Axes>"
      ]
     },
     "execution_count": 15,
     "metadata": {},
     "output_type": "execute_result"
    }
   ],
   "source": [
    "# The grover operator is built into qiskit; we can decompose\n",
    "# so we can see what it is composed of.\n",
    "\n",
    "grover_op = GroverOperator(get_grover_oracle(QUANTUM_WINNER).decompose())\n",
    "grover_op.decompose().draw(output='mpl')"
   ]
  },
  {
   "cell_type": "markdown",
   "metadata": {},
   "source": [
    "So this Grover's operator will alter our quantum state and slowly map the probability amplitudes onto the marked states. There is an equation to calculate the optimum number of operations to perform."
   ]
  },
  {
   "cell_type": "code",
   "execution_count": 16,
   "metadata": {},
   "outputs": [
    {
     "name": "stdout",
     "output_type": "stream",
     "text": [
      "Optimal number of iterations: 1\n"
     ]
    }
   ],
   "source": [
    "optimal_num_iterations = math.floor(\n",
    "    math.pi / (4 * math.asin(math.sqrt(1 / 2**grover_op.num_qubits)))\n",
    ")\n",
    "print(f\"Optimal number of iterations: {optimal_num_iterations}\")"
   ]
  },
  {
   "cell_type": "code",
   "execution_count": 17,
   "metadata": {},
   "outputs": [
    {
     "data": {
      "image/png": "[encoded data removed]",
      "text/plain": [
       "<Figure size 747.609x284.278 with 1 Axes>"
      ]
     },
     "execution_count": 17,
     "metadata": {},
     "output_type": "execute_result"
    }
   ],
   "source": [
    "# Now we can apply the grover operator to our circuit twice.\n",
    "\n",
    "for i in range(optimal_num_iterations):\n",
    "    circuit.append(grover_op.decompose(), range(grover_op.num_qubits))\n",
    "\n",
    "# Our cicuit is now finished and we can measure the state of all\n",
    "# quibits to get the result.\n",
    "circuit.measure_all()\n",
    "circuit.draw(output='mpl')"
   ]
  },
  {
   "cell_type": "code",
   "execution_count": 18,
   "metadata": {},
   "outputs": [
    {
     "data": {
      "text/plain": [
       "<BarContainer object of 4 artists>"
      ]
     },
     "execution_count": 18,
     "metadata": {},
     "output_type": "execute_result"
    },
    {
     "data": {
      "image/png": "[encoded data removed]",
      "text/plain": [
       "<Figure size 640x480 with 1 Axes>"
      ]
     },
     "metadata": {},
     "output_type": "display_data"
    }
   ],
   "source": [
    "simulator = aer.QasmSimulator()\n",
    "result = simulator.run(circuit.decompose(), shots=1000).result()\n",
    "counts = result.get_counts()\n",
    "\n",
    "plt.bar(counts.keys(), counts.values())"
   ]
  },
  {
   "cell_type": "markdown",
   "metadata": {},
   "source": [
    "Let's tidy this into a neat little function so that we can test some other cases. For simplicity we will redefine the problem slightly:\n",
    "\n",
    "- The list will contain numbers 0 to $2^n$ where $n$ is a integer number of qubits.\n",
    "- The winner is any number form the list."
   ]
  },
  {
   "cell_type": "code",
   "execution_count": 19,
   "metadata": {},
   "outputs": [],
   "source": [
    "# Helper functions\n",
    "\n",
    "def get_state_map(my_list, n):\n",
    "    state_map = {}\n",
    "    for i, val in enumerate(my_list):\n",
    "        state_map[val] = f\"{i:0{n}b}\"\n",
    "    return state_map\n",
    "\n",
    "def convert_to_quantum_state(value, state_map):\n",
    "    return state_map[value]\n",
    "\n",
    "def convert_to_classical_value(state, state_map: dict):\n",
    "    for key, val in state_map.items():\n",
    "        if val == state:\n",
    "            return key\n",
    "\n",
    "def get_quantum_state(list):\n",
    "    n = math.ceil(math.log2(max(list)+1))\n",
    "    state_map = get_state_map(list)\n",
    "    states = []\n",
    "    for number in list:\n",
    "        states.append(convert_to_quantum_state(number, state_map))\n",
    "    return states\n",
    "\n",
    "def convert_counts_to_classical(counts, state_map):\n",
    "    classical_counts = {}\n",
    "    for key in counts.keys():\n",
    "        new_key = convert_to_classical_value(key, state_map)\n",
    "        classical_counts[new_key] = counts[key]\n",
    "    return classical_counts\n",
    "\n",
    "def create_plotting_counts(counts, list):\n",
    "    for i, val in enumerate(list):\n",
    "        if val not in counts.keys():\n",
    "            counts[val] = 0\n",
    "\n",
    "    return counts\n",
    "\n",
    "def get_key_with_max_val(dictionary):\n",
    "    return max(dictionary, key=dictionary.get)"
   ]
  },
  {
   "cell_type": "code",
   "execution_count": 20,
   "metadata": {},
   "outputs": [],
   "source": [
    "def get_winner(my_list, winner, shots=1000):\n",
    "\n",
    "    n = math.ceil(math.log2(max(my_list)+1))\n",
    "\n",
    "    state_map = get_state_map(my_list, n)\n",
    "\n",
    "    winner_state = convert_to_quantum_state(winner, state_map)\n",
    "\n",
    "    grover_oracle = get_grover_oracle(winner_state)\n",
    "\n",
    "    grover_op = GroverOperator(grover_oracle)\n",
    "\n",
    "    optimal_num_iterations = math.floor(\n",
    "        math.pi / (4 * math.asin(math.sqrt(1 / 2**grover_op.num_qubits)))\n",
    "    )\n",
    "\n",
    "    circuit = qs.QuantumCircuit(grover_op.num_qubits)\n",
    "    circuit.h(range(grover_op.num_qubits))\n",
    "    \n",
    "    for i in range(optimal_num_iterations):\n",
    "        circuit.append(grover_op.decompose(), range(grover_op.num_qubits))\n",
    "    \n",
    "    circuit.measure_all()\n",
    "    circuit = circuit.decompose()\n",
    "\n",
    "    simulator = aer.QasmSimulator()\n",
    "    result = simulator.run(circuit.decompose(), shots=shots).result()\n",
    "    counts = result.get_counts()\n",
    "\n",
    "    classical_counts = convert_counts_to_classical(counts, state_map)\n",
    "    plotting_counts = create_plotting_counts(classical_counts, my_list)\n",
    "\n",
    "    result_df = pd.DataFrame(plotting_counts.items(), columns=['Value', 'Count'])\n",
    "    \n",
    "\n",
    "    # create a my_list of labels\n",
    "    tick_label = [str(i) for i in list(result_df['Value'])]\n",
    "    plt.bar(result_df['Value'], result_df['Count'], tick_label=tick_label)\n",
    "    plt.show()\n",
    "\n",
    "    winner = get_key_with_max_val(classical_counts)\n",
    "    \n",
    "    print(f\"Winner is {winner} with {classical_counts[winner]} votes\")\n",
    "\n",
    "    return winner"
   ]
  },
  {
   "cell_type": "code",
   "execution_count": 21,
   "metadata": {},
   "outputs": [
    {
     "name": "stdout",
     "output_type": "stream",
     "text": [
      "List: [ 6 34 19 61  5  2 27 32 33 43 12 11 51 60 55 44 58 15 53  8 41 22 29 62\n",
      "  0 40 10 59 18 39 37 49 21 24 14 26  4 57 20 48 46 38 36 25 23 47 28  7\n",
      "  1  3 52 50 35  9 30 16 17 54 63 42 56 13 45 31]\n",
      "Winner: 36\n"
     ]
    }
   ],
   "source": [
    "# Number of quibits to use\n",
    "n = 6\n",
    "\n",
    "# Create a list of unique random numbers\n",
    "my_list = np.random.choice(np.arange(2**n), 2**n, replace=False)\n",
    "\n",
    "# Pick a random winner\n",
    "my_winner = np.random.choice(my_list)\n",
    "\n",
    "print(f\"List: {my_list}\")\n",
    "print(f\"Winner: {my_winner}\")"
   ]
  },
  {
   "cell_type": "code",
   "execution_count": 22,
   "metadata": {},
   "outputs": [
    {
     "data": {
      "image/png": "[encoded data removed]",
      "text/plain": [
       "<Figure size 640x480 with 1 Axes>"
      ]
     },
     "metadata": {},
     "output_type": "display_data"
    },
    {
     "name": "stdout",
     "output_type": "stream",
     "text": [
      "Winner is 36 with 1 votes\n"
     ]
    }
   ],
   "source": [
    "_ = get_winner(my_list, my_winner, shots=1)"
   ]
  }
 ],
 "metadata": {
  "kernelspec": {
   "display_name": "quantum-demo-_vbEGaeA-py3.12",
   "language": "python",
   "name": "python3"
  },
  "language_info": {
   "codemirror_mode": {
    "name": "ipython",
    "version": 3
   },
   "file_extension": ".py",
   "mimetype": "text/x-python",
   "name": "python",
   "nbconvert_exporter": "python",
   "pygments_lexer": "ipython3",
   "version": "3.12.3"
  }
 },
 "nbformat": 4,
 "nbformat_minor": 2
}
